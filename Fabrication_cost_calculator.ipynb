{
 "cells": [
  {
   "cell_type": "markdown",
   "id": "fb7a5198-98d4-407f-acbb-6a612e06c0bb",
   "metadata": {},
   "source": [
    "# Fabrication Cost Calculator"
   ]
  },
  {
   "cell_type": "markdown",
   "id": "beeef27b-4e3e-410b-90c3-48a2dcc2b056",
   "metadata": {},
   "source": [
    "This is a functional project intended to assist, outline, and expedite the proccess of finding what amount should be charged after a fabrication job has been completed. It considers material that will be used and labor time along with user determined rates to output a final price to charge for a given job."
   ]
  },
  {
   "cell_type": "code",
   "execution_count": 16,
   "id": "eb689861-6fd6-49cb-8ca3-7d2600f5d0cc",
   "metadata": {},
   "outputs": [
    {
     "name": "stdin",
     "output_type": "stream",
     "text": [
      "Will this job be priced hourly or with a flat fee (F/H): g\n"
     ]
    },
    {
     "name": "stdout",
     "output_type": "stream",
     "text": [
      "Input not recognised, try again.\n"
     ]
    },
    {
     "name": "stdin",
     "output_type": "stream",
     "text": [
      "Will this job be priced hourly or with a flat fee (F/H): 4\n"
     ]
    },
    {
     "name": "stdout",
     "output_type": "stream",
     "text": [
      "Input not recognised, try again.\n"
     ]
    },
    {
     "name": "stdin",
     "output_type": "stream",
     "text": [
      "Will this job be priced hourly or with a flat fee (F/H): \n"
     ]
    },
    {
     "name": "stdout",
     "output_type": "stream",
     "text": [
      "Input not recognised, try again.\n"
     ]
    },
    {
     "name": "stdin",
     "output_type": "stream",
     "text": [
      "Will this job be priced hourly or with a flat fee (F/H): fff\n"
     ]
    },
    {
     "name": "stdout",
     "output_type": "stream",
     "text": [
      "Input not recognised, try again.\n"
     ]
    },
    {
     "name": "stdin",
     "output_type": "stream",
     "text": [
      "Will this job be priced hourly or with a flat fee (F/H): f\n"
     ]
    },
    {
     "name": "stdout",
     "output_type": "stream",
     "text": [
      "  *The job will be computed with a flat rate.\n",
      "\n"
     ]
    },
    {
     "name": "stdin",
     "output_type": "stream",
     "text": [
      "Please enter the flat rate for this job.($) 4\n",
      "\n",
      "What was the total length of beginning material (inches) 4\n",
      "What was the total width of beginning material (inches) 4\n"
     ]
    },
    {
     "name": "stdout",
     "output_type": "stream",
     "text": [
      "  *The beginning material is 16 square inches\n",
      "\n"
     ]
    },
    {
     "name": "stdin",
     "output_type": "stream",
     "text": [
      "Input the cost of beginning material ($) 4\n"
     ]
    },
    {
     "name": "stdout",
     "output_type": "stream",
     "text": [
      "  *The price per square inch is $ 0.25 \n",
      "\n"
     ]
    },
    {
     "name": "stdin",
     "output_type": "stream",
     "text": [
      "How many square inches were used for the project (in^2) g\n"
     ]
    },
    {
     "ename": "ValueError",
     "evalue": "invalid literal for int() with base 10: 'g'",
     "output_type": "error",
     "traceback": [
      "\u001b[1;31m---------------------------------------------------------------------------\u001b[0m",
      "\u001b[1;31mValueError\u001b[0m                                Traceback (most recent call last)",
      "\u001b[1;32m<ipython-input-16-ebc9c8c3ef0c>\u001b[0m in \u001b[0;36m<module>\u001b[1;34m\u001b[0m\n\u001b[0;32m     41\u001b[0m \u001b[1;33m\u001b[0m\u001b[0m\n\u001b[0;32m     42\u001b[0m \u001b[1;31m#get the amount of material consumed in this one project\u001b[0m\u001b[1;33m\u001b[0m\u001b[1;33m\u001b[0m\u001b[1;33m\u001b[0m\u001b[0m\n\u001b[1;32m---> 43\u001b[1;33m \u001b[0msqin_used\u001b[0m  \u001b[1;33m=\u001b[0m \u001b[0mint\u001b[0m\u001b[1;33m(\u001b[0m\u001b[0minput\u001b[0m\u001b[1;33m(\u001b[0m\u001b[1;34m\"How many square inches were used for the project (in^2)\"\u001b[0m\u001b[1;33m)\u001b[0m\u001b[1;33m)\u001b[0m\u001b[1;33m\u001b[0m\u001b[1;33m\u001b[0m\u001b[0m\n\u001b[0m\u001b[0;32m     44\u001b[0m \u001b[1;33m\u001b[0m\u001b[0m\n\u001b[0;32m     45\u001b[0m \u001b[1;31m#then find the cost of consumed material\u001b[0m\u001b[1;33m\u001b[0m\u001b[1;33m\u001b[0m\u001b[1;33m\u001b[0m\u001b[0m\n",
      "\u001b[1;31mValueError\u001b[0m: invalid literal for int() with base 10: 'g'"
     ]
    }
   ],
   "source": [
    "#first finding drafting + labor rates and times\n",
    "#this will be flat fee or hourly\n",
    "#starting a loop asking the user which method of drafting fee will be used to begin\n",
    "while True:\n",
    "    draft_option = input(\"Will this job be priced hourly or with a flat fee (F/H):\").strip().upper()\n",
    "    #print(draft_option)\n",
    "        \n",
    "    if draft_option == \"F\":\n",
    "        print(\"  *The job will be computed with a flat rate.\\n\")\n",
    "        break\n",
    "    elif draft_option == \"H\":\n",
    "        print(\"  *The job will be computed using an hourly rate.\\n\")\n",
    "        break\n",
    "    elif draft_option != \"F\" or draft_option != \"H\":\n",
    "        print(\"Input not recognised, try again.\")\n",
    "#gettting rates from user depending on rate method\n",
    "if draft_option == \"F\":\n",
    "    flat_rate = int(input(\"Please enter the flat rate for this job.($)\"))\n",
    "    draft_cost = flat_rate\n",
    "elif draft_option == \"H\":\n",
    "    hourly_rate = int(input(\"Please enter the hourly rate for this job.($)\"))\n",
    "    draft_time = int(input(\"Enter time spent drafting (minutes).\"))\n",
    "    #convert mins to hours with time*(0.0167)\n",
    "    draft_cost = hourly_rate * (draft_time * 0.0167)\n",
    "    print(\"Drafting will total $\",draft_cost)\n",
    "    \n",
    "    \n",
    "#now finding total material cost\n",
    "#material cost\n",
    "#material size in sq inch (Length * Width)\n",
    "mat_length = int(input(\"\\nWhat was the total length of beginning material (inches)\"))\n",
    "mat_width = int(input(\"What was the total width of beginning material (inches)\"))\n",
    "print(\"  *The beginning material is\",mat_length * mat_width,\"square inches\\n\")\n",
    "\n",
    "#cost paid for base material\n",
    "cost = int(input(\"Input the cost of beginning material ($)\"))\n",
    "\n",
    "#find and display the price for each square inch of material\n",
    "cost_per_sqin = cost / (mat_length * mat_width)\n",
    "print(\"  *The price per square inch is $\",cost_per_sqin,\"\\n\")\n",
    "\n",
    "#get the amount of material consumed in this one project\n",
    "sqin_used  = int(input(\"How many square inches were used for the project (in^2)\"))\n",
    "\n",
    "#then find the cost of consumed material\n",
    "material_cost = sqin_used * cost_per_sqin\n",
    "print(\"  *The cost of material used for this project is $\",material_cost,\"\\n\")\n",
    "\n",
    "\n",
    "#markup\n",
    "#about 35% - 50%\n",
    "#higher for low volume, lower for high volume\n",
    "markup = int(input(\"How much markup will be applied to this project. (35%-50%)\"))\n",
    "mats_w_markup = material_cost + (material_cost * (markup / 100))\n",
    "print(\" *With markup the material cost is: $\",mats_w_markup)\n",
    "\n",
    "#fabrication labor time (minutes)\n",
    "fab_labor = int(input(\"\\nHow much labor time was used to complete the project (minutes)\"))\n",
    "#asks user for hourly rate if it was not already given in the drafting section\n",
    "if draft_option == \"F\":\n",
    "    labor_hourly_rate = int(input(\"Please enter the hourly rate for this job.($)\"))\n",
    "else:\n",
    "    labor_hourly_rate = hourly_rate\n",
    "    \n",
    "#convert to hours and find the total compensation for time consumed\n",
    "fab_labor_hr = fab_labor * 0.0167\n",
    "fab_labor_cost = fab_labor_hr * labor_hourly_rate\n",
    "#show user fab_labor_cost\n",
    "print(\"  *The labor portion of this project will cost $\",fab_labor_cost,\"\\n\")\n",
    "\n",
    "#local tax (%)\n",
    "tax = int(input(\"What is the applied (local) tax rate percentage (generaly 5%-7%)\"))\n",
    "#change tax to percent\n",
    "tax = tax /100\n",
    "print(\"\\n\")\n",
    "\n",
    "#completion cost\n",
    "#total labor + total materials\n",
    "\n",
    "#labor sum (fabrication time + drafting time)\n",
    "total_labor = fab_labor_cost + draft_cost\n",
    "\n",
    "#material sum (matrial cost + material markup and tax)\n",
    "total_mats = mats_w_markup + (tax * mats_w_markup)\n",
    "end_cost = total_labor + total_mats\n",
    "#show user final cost\n",
    "print('\\033[1m' + f'The cost for this project should be: ${end_cost:.2f}' + '\\033[0m')\n",
    "print(f'(Drafting: ${draft_cost:.2f} + Materials: ${mats_w_markup:.2f} + Labor: ${fab_labor_cost:.2f} + Tax: ${(tax * mats_w_markup):.2f})')\n"
   ]
  }
 ],
 "metadata": {
  "kernelspec": {
   "display_name": "Python 3",
   "language": "python",
   "name": "python3"
  },
  "language_info": {
   "codemirror_mode": {
    "name": "ipython",
    "version": 3
   },
   "file_extension": ".py",
   "mimetype": "text/x-python",
   "name": "python",
   "nbconvert_exporter": "python",
   "pygments_lexer": "ipython3",
   "version": "3.8.8"
  }
 },
 "nbformat": 4,
 "nbformat_minor": 5
}
