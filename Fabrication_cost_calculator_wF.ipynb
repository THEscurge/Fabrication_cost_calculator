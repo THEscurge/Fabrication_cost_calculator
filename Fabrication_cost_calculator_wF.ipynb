{
 "cells": [
  {
   "cell_type": "markdown",
   "id": "fb7a5198-98d4-407f-acbb-6a612e06c0bb",
   "metadata": {},
   "source": [
    "# Fabrication Project Cost Calculator"
   ]
  },
  {
   "cell_type": "markdown",
   "id": "beeef27b-4e3e-410b-90c3-48a2dcc2b056",
   "metadata": {},
   "source": [
    "This is a functional project intended to assist, outline, and expedite the proccess of finding what amount should be charged after a fabrication job has been completed. It considers material that will be used and labor time along with user determined rates to output a final price to charge for a given job.\n",
    "\n",
    "Inputs required:\n",
    "* amount of of drafting time and rate\n",
    "* starting material dimensions and cost\n",
    "* amount of material used for project\n",
    "* markup percentage on materials used\n",
    "* labor time and rate to finish project\n",
    "* tax rate on the materials used"
   ]
  },
  {
   "cell_type": "code",
   "execution_count": 5,
   "id": "eb689861-6fd6-49cb-8ca3-7d2600f5d0cc",
   "metadata": {},
   "outputs": [
    {
     "name": "stdin",
     "output_type": "stream",
     "text": [
      "Will the drafting portion of this project be priced hourly or with a flat fee (F/H): f\n"
     ]
    },
    {
     "name": "stdout",
     "output_type": "stream",
     "text": [
      "  *The project will be computed with a flat rate.\n",
      "\n"
     ]
    },
    {
     "name": "stdin",
     "output_type": "stream",
     "text": [
      "Please enter the flat rate for this project.($) 50\n",
      "\n",
      "What was the total length of beginning material (inches) 12\n",
      "What was the total width of beginning material (inches) 12\n"
     ]
    },
    {
     "name": "stdout",
     "output_type": "stream",
     "text": [
      "  *The beginning material is 144 square inches\n",
      "\n"
     ]
    },
    {
     "name": "stdin",
     "output_type": "stream",
     "text": [
      "Input the cost of beginning material ($) 30\n"
     ]
    },
    {
     "name": "stdout",
     "output_type": "stream",
     "text": [
      "  *The price per square inch is $ 0.20833333333333334 \n",
      "\n"
     ]
    },
    {
     "name": "stdin",
     "output_type": "stream",
     "text": [
      "How many square inches were used for the project (in^2) 100\n"
     ]
    },
    {
     "name": "stdout",
     "output_type": "stream",
     "text": [
      "  *The cost of material used for this project is $ 20.833333333333336 \n",
      "\n"
     ]
    },
    {
     "name": "stdin",
     "output_type": "stream",
     "text": [
      "How much markup will be applied to this project. (35%-50%) 50\n"
     ]
    },
    {
     "name": "stdout",
     "output_type": "stream",
     "text": [
      "  *With markup of 50.0 % the material cost becomes: $ 31.250000000000004 \n",
      "\n"
     ]
    },
    {
     "name": "stdin",
     "output_type": "stream",
     "text": [
      "How much labor time was used to complete the project (minutes) 60\n",
      "Please enter the hourly rate for this job.($) 50\n"
     ]
    },
    {
     "name": "stdout",
     "output_type": "stream",
     "text": [
      "  *The labor portion of this project will cost $ 50.1 \n",
      "\n"
     ]
    },
    {
     "name": "stdin",
     "output_type": "stream",
     "text": [
      "What is the applied (local) tax rate percentage (generaly 5%-7%) 7\n"
     ]
    },
    {
     "name": "stdout",
     "output_type": "stream",
     "text": [
      "  *The tax rate of 7 % will be applied to material used for this project.\n",
      "\n",
      "\u001b[1mThe cost for this project should be: $133.54\u001b[0m\n",
      "(Drafting: $50.00 + Materials: $31.25 + Labor: $50.10 + Tax: $2.19)\n"
     ]
    }
   ],
   "source": [
    "#first finding drafting + labor rates and times\n",
    "#this will be flat fee or hourly\n",
    "#starting a loop asking the user which method of drafting fee will be used to begin\n",
    "while True:\n",
    "    draft_option = input(\"Will the drafting portion of this project be priced hourly or with a flat fee (F/H):\").strip().upper()\n",
    "    #print(draft_option)\n",
    "        \n",
    "    if draft_option == \"F\":\n",
    "        print(\"  *The project will be computed with a flat rate.\\n\")\n",
    "        break\n",
    "    elif draft_option == \"H\":\n",
    "        print(\"  *The project will be computed using an hourly rate.\\n\")\n",
    "        break\n",
    "    elif draft_option != \"F\" or draft_option != \"H\":\n",
    "        print(\"Input not recognised, try again.\")\n",
    "#gettting rates from user depending on rate method\n",
    "if draft_option == \"F\":\n",
    "    flat_rate = int(input(\"Please enter the flat rate for this project.($)\"))\n",
    "    draft_cost = flat_rate\n",
    "elif draft_option == \"H\":\n",
    "    hourly_rate = int(input(\"Please enter the hourly rate for this project.($)\"))\n",
    "    draft_time = int(input(\"Enter time spent drafting (minutes).\"))\n",
    "    #convert mins to hours with time*(0.0167)\n",
    "    draft_cost = hourly_rate * (draft_time * 0.0167)\n",
    "    print(\"Drafting will total $\",draft_cost)\n",
    "    \n",
    "    \n",
    "#now finding total material cost\n",
    "#material cost\n",
    "#material size in sq inch (Length * Width)\n",
    "def material_cost():\n",
    "    mat_length = int(input(\"\\nWhat was the total length of beginning material (inches)\"))\n",
    "    mat_width = int(input(\"What was the total width of beginning material (inches)\"))\n",
    "    print(\"  *The beginning material is\",mat_length * mat_width,\"square inches\\n\")\n",
    "\n",
    "    #cost paid for base material\n",
    "    cost = int(input(\"Input the cost of beginning material ($)\"))\n",
    "\n",
    "    #find and display the price for each square inch of material\n",
    "    cost_per_sqin = cost / (mat_length * mat_width)\n",
    "    print(\"  *The price per square inch is $\",cost_per_sqin,\"\\n\")\n",
    "\n",
    "    #get the amount of material consumed in this one project\n",
    "    sqin_used  = int(input(\"How many square inches were used for the project (in^2)\"))\n",
    "\n",
    "    #then find the cost of consumed material\n",
    "    material_cost = sqin_used * cost_per_sqin\n",
    "    print(\"  *The cost of material used for this project is $\",material_cost,\"\\n\")\n",
    "    return material_cost\n",
    "\n",
    "material_cost = material_cost()\n",
    "\n",
    "\n",
    "#markup\n",
    "#about 35% - 50%\n",
    "#higher for low volume, lower for high volume\n",
    "def get_markup():\n",
    "    markup = int(input(\"How much markup will be applied to this project. (35%-50%)\"))\n",
    "    #convert value to a percent\n",
    "    return markup /100\n",
    "\n",
    "markup = get_markup()\n",
    "\n",
    "\n",
    "#apply markup to material cost\n",
    "def apply_markup(base, markup):\n",
    "    mats_w_markup = base + (base * markup)\n",
    "    print(\"  *With markup of\",markup *100,\"% the material cost becomes: $\",mats_w_markup,\"\\n\")\n",
    "    return mats_w_markup\n",
    "    \n",
    "mats_w_markup = apply_markup(material_cost, markup)\n",
    "\n",
    "\n",
    "#fabrication labor time (minutes)\n",
    "def fabricaton_labor_cost():\n",
    "    fab_labor = int(input(\"How much labor time was used to complete the project (minutes)\"))\n",
    "    #asks user for hourly rate if it was not already given in the drafting section\n",
    "    if draft_option == \"F\":\n",
    "        labor_hourly_rate = int(input(\"Please enter the hourly rate for this job.($)\"))\n",
    "    else:\n",
    "        labor_hourly_rate = hourly_rate\n",
    "    \n",
    "    #convert to hours and find the total compensation for time consumed\n",
    "    fab_labor_hr = fab_labor * 0.0167\n",
    "    fab_labor_cost = fab_labor_hr * labor_hourly_rate\n",
    "    #show user fab_labor_cost\n",
    "    print(\"  *The labor portion of this project will cost $\",fab_labor_cost,\"\\n\")\n",
    "    return fab_labor_cost\n",
    "    \n",
    "fab_labor_cost = fabricaton_labor_cost()\n",
    "\n",
    "\n",
    "#local tax (%)\n",
    "def get_tax():\n",
    "    tax = int(input(\"What is the applied (local) tax rate percentage (generaly 5%-7%)\"))\n",
    "    print(\"  *The tax rate of\",tax,\"% will be applied to material used for this project.\\n\")\n",
    "    #change tax to percent\n",
    "    return tax /100\n",
    "    \n",
    "tax = get_tax()\n",
    "\n",
    "\n",
    "#apply tax rate to material value\n",
    "def apply_tax(base, tax):\n",
    "    return base + (tax * base)\n",
    "\n",
    "    \n",
    "#Sum of total labor (fabrication time + drafting time)\n",
    "total_labor = fab_labor_cost + draft_cost\n",
    "\n",
    "#sum of all material costs (cost of base matrial + markup and tax on material)\n",
    "total_mats = apply_tax(mats_w_markup, tax)\n",
    "cost_of_project = total_labor + total_mats\n",
    "\n",
    "#show user final cost\n",
    "print('\\033[1m' + f'The cost for this project should be: ${cost_of_project:.2f}' + '\\033[0m')\n",
    "print(f'(Drafting: ${draft_cost:.2f} + Materials: ${mats_w_markup:.2f} + Labor: ${fab_labor_cost:.2f} + Tax: ${(tax * mats_w_markup):.2f})')\n"
   ]
  }
 ],
 "metadata": {
  "kernelspec": {
   "display_name": "Python 3",
   "language": "python",
   "name": "python3"
  },
  "language_info": {
   "codemirror_mode": {
    "name": "ipython",
    "version": 3
   },
   "file_extension": ".py",
   "mimetype": "text/x-python",
   "name": "python",
   "nbconvert_exporter": "python",
   "pygments_lexer": "ipython3",
   "version": "3.8.8"
  }
 },
 "nbformat": 4,
 "nbformat_minor": 5
}
